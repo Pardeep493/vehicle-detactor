{
 "cells": [
  {
   "cell_type": "code",
   "execution_count": 1,
   "id": "2e04ad29",
   "metadata": {},
   "outputs": [],
   "source": [
    "import cv2\n",
    "import numpy as np"
   ]
  },
  {
   "cell_type": "code",
   "execution_count": 2,
   "id": "7c85cd72",
   "metadata": {},
   "outputs": [],
   "source": [
    "#web camera\n",
    "cap = cv2.VideoCapture('C:\\\\Users\\\\Dileep\\\\Downloads\\\\video.mp4')"
   ]
  },
  {
   "cell_type": "code",
   "execution_count": 3,
   "id": "769f8aef",
   "metadata": {},
   "outputs": [],
   "source": [
    "min_width_react = 80\n",
    "min_height_react = 80 "
   ]
  },
  {
   "cell_type": "code",
   "execution_count": 4,
   "id": "0fc74fec",
   "metadata": {},
   "outputs": [],
   "source": [
    "count_line_position = 550"
   ]
  },
  {
   "cell_type": "code",
   "execution_count": 5,
   "id": "a5704d3c",
   "metadata": {},
   "outputs": [],
   "source": [
    "#Initialize Substructor\n",
    "algo = cv2.bgsegm.createBackgroundSubtractorMOG()"
   ]
  },
  {
   "cell_type": "code",
   "execution_count": 6,
   "id": "18c1b396",
   "metadata": {},
   "outputs": [],
   "source": [
    "def center_handle(x,y,w,h):\n",
    "    x1=int(w/2)\n",
    "    y1=int(h/2)\n",
    "    cx=x+x1\n",
    "    cy=y+y1\n",
    "    return cx,cy\n",
    "\n",
    "detect = []\n",
    "offset = 6 #Allowable error between pixel\n",
    "counter = 0"
   ]
  },
  {
   "cell_type": "code",
   "execution_count": 7,
   "id": "ad9403da",
   "metadata": {},
   "outputs": [
    {
     "name": "stdout",
     "output_type": "stream",
     "text": [
      "Vehicale Counter: 1\n",
      "Vehicale Counter: 2\n",
      "Vehicale Counter: 3\n",
      "Vehicale Counter: 4\n",
      "Vehicale Counter: 5\n",
      "Vehicale Counter: 6\n",
      "Vehicale Counter: 7\n",
      "Vehicale Counter: 8\n",
      "Vehicale Counter: 9\n",
      "Vehicale Counter: 10\n",
      "Vehicale Counter: 11\n",
      "Vehicale Counter: 12\n",
      "Vehicale Counter: 13\n",
      "Vehicale Counter: 14\n",
      "Vehicale Counter: 15\n",
      "Vehicale Counter: 16\n",
      "Vehicale Counter: 17\n",
      "Vehicale Counter: 18\n",
      "Vehicale Counter: 19\n",
      "Vehicale Counter: 20\n",
      "Vehicale Counter: 21\n",
      "Vehicale Counter: 22\n",
      "Vehicale Counter: 23\n",
      "Vehicale Counter: 24\n",
      "Vehicale Counter: 25\n",
      "Vehicale Counter: 26\n",
      "Vehicale Counter: 27\n",
      "Vehicale Counter: 28\n"
     ]
    },
    {
     "ename": "KeyboardInterrupt",
     "evalue": "",
     "output_type": "error",
     "traceback": [
      "\u001b[1;31m---------------------------------------------------------------------------\u001b[0m",
      "\u001b[1;31mKeyboardInterrupt\u001b[0m                         Traceback (most recent call last)",
      "Cell \u001b[1;32mIn[7], line 6\u001b[0m\n\u001b[0;32m      4\u001b[0m blur \u001b[38;5;241m=\u001b[39m cv2\u001b[38;5;241m.\u001b[39mGaussianBlur(grey,(\u001b[38;5;241m3\u001b[39m,\u001b[38;5;241m3\u001b[39m),\u001b[38;5;241m5\u001b[39m)\n\u001b[0;32m      5\u001b[0m \u001b[38;5;66;03m#appling on each frame\u001b[39;00m\n\u001b[1;32m----> 6\u001b[0m img_sub \u001b[38;5;241m=\u001b[39m algo\u001b[38;5;241m.\u001b[39mapply(blur)\n\u001b[0;32m      7\u001b[0m dilat \u001b[38;5;241m=\u001b[39m cv2\u001b[38;5;241m.\u001b[39mdilate(img_sub, np\u001b[38;5;241m.\u001b[39mones((\u001b[38;5;241m5\u001b[39m,\u001b[38;5;241m5\u001b[39m)))\n\u001b[0;32m      8\u001b[0m kernal \u001b[38;5;241m=\u001b[39m cv2\u001b[38;5;241m.\u001b[39mgetStructuringElement(cv2\u001b[38;5;241m.\u001b[39mMORPH_ELLIPSE,(\u001b[38;5;241m5\u001b[39m,\u001b[38;5;241m5\u001b[39m))\n",
      "\u001b[1;31mKeyboardInterrupt\u001b[0m: "
     ]
    }
   ],
   "source": [
    "while True:\n",
    "    ret,frame1 = cap.read()\n",
    "    grey = cv2.cvtColor(frame1,cv2.COLOR_BGR2GRAY)\n",
    "    blur = cv2.GaussianBlur(grey,(3,3),5)\n",
    "    #appling on each frame\n",
    "    img_sub = algo.apply(blur)\n",
    "    dilat = cv2.dilate(img_sub, np.ones((5,5)))\n",
    "    kernal = cv2.getStructuringElement(cv2.MORPH_ELLIPSE,(5,5))\n",
    "    dilat1 = cv2.morphologyEx(dilat, cv2.MORPH_CLOSE, kernal)\n",
    "    dilat2 = cv2.morphologyEx(dilat1, cv2.MORPH_CLOSE, kernal)\n",
    "    countershape,h = cv2.findContours(dilat2, cv2.RETR_TREE, cv2.CHAIN_APPROX_SIMPLE)\n",
    "    \n",
    "    cv2.line(frame1, (25, count_line_position), (1200, count_line_position), (255,127,0), 3)\n",
    "    \n",
    "    for (i,c) in enumerate(countershape):\n",
    "        (x,y,w,h) = cv2.boundingRect(c)\n",
    "        validate_counter = (w>=min_width_react) and (h>=min_height_react)\n",
    "        if not validate_counter:\n",
    "            continue\n",
    "            \n",
    "        cv2.rectangle(frame1, (x,y),(x+w,y+h),(0,255,0), 2)\n",
    "        cv2.putText(frame1,\"Vehicle :\"+str(counter),(x, y-20),cv2.FONT_HERSHEY_TRIPLEX, 1, (255,244,0),2)\n",
    "        \n",
    "        center = center_handle(x,y,w,h)\n",
    "        detect.append(center)\n",
    "        cv2.circle(frame1,center,4, (0,0,255),-1)\n",
    "        \n",
    "        for (x,y) in detect:\n",
    "            if y<(count_line_position+offset) and y>(count_line_position-offset):\n",
    "                counter+=1\n",
    "                cv2.line(frame1, (25, count_line_position), (1200, count_line_position), (0,127,255), 3)\n",
    "                detect.remove((x,y))\n",
    "                \n",
    "                print(\"Vehicale Counter: \"+str(counter))\n",
    "            \n",
    "    cv2.putText(frame1,\"VEHICLE COUNTER :\"+str(counter),(450,40),cv2.FONT_HERSHEY_SIMPLEX,2,(0,0,255),5)\n",
    "            \n",
    "    \n",
    "    #cv2.imshow('Detector', dilat2)\n",
    "    \n",
    "    cv2.imshow('Video Original', frame1)\n",
    "    \n",
    "    if cv2.waitKey(1)==13:\n",
    "        break\n",
    "\n",
    "cv2.destroyAllWindows()\n",
    "cap.release()"
   ]
  },
  {
   "cell_type": "code",
   "execution_count": null,
   "id": "5f9516cd",
   "metadata": {},
   "outputs": [],
   "source": []
  }
 ],
 "metadata": {
  "kernelspec": {
   "display_name": "Python 3 (ipykernel)",
   "language": "python",
   "name": "python3"
  },
  "language_info": {
   "codemirror_mode": {
    "name": "ipython",
    "version": 3
   },
   "file_extension": ".py",
   "mimetype": "text/x-python",
   "name": "python",
   "nbconvert_exporter": "python",
   "pygments_lexer": "ipython3",
   "version": "3.11.3"
  }
 },
 "nbformat": 4,
 "nbformat_minor": 5
}
